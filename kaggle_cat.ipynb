{
 "cells": [
  {
   "cell_type": "code",
   "execution_count": 1,
   "metadata": {
    "ExecuteTime": {
     "end_time": "2020-03-19T17:44:16.938362Z",
     "start_time": "2020-03-19T17:44:15.121433Z"
    },
    "code_folding": [
     0
    ]
   },
   "outputs": [
    {
     "data": {
      "text/html": [
       "<style>.container { width:90% !important; }</style>"
      ],
      "text/plain": [
       "<IPython.core.display.HTML object>"
      ]
     },
     "metadata": {},
     "output_type": "display_data"
    }
   ],
   "source": [
    "# import libraries\n",
    "import pandas as pd\n",
    "import numpy as np\n",
    "import matplotlib.pyplot as plt\n",
    "import seaborn as sns\n",
    "import time\n",
    "import scikitplot as skplt\n",
    "\n",
    "# settings\n",
    "sns.set(font_scale=1.5)\n",
    "%config InlineBackend.figure_format = 'retina'\n",
    "%matplotlib inline\n",
    "\n",
    "# import models from sklearn\n",
    "from sklearn import datasets, metrics, naive_bayes\n",
    "from sklearn.preprocessing import StandardScaler, PowerTransformer\n",
    "from sklearn.linear_model import LogisticRegression, LogisticRegressionCV\n",
    "from sklearn.model_selection import train_test_split,cross_val_score, StratifiedKFold, GridSearchCV, KFold\n",
    "from sklearn.metrics import classification_report, confusion_matrix, accuracy_score\n",
    "from sklearn.neighbors import KNeighborsClassifier\n",
    "from sklearn.tree import DecisionTreeClassifier\n",
    "from sklearn.ensemble import BaggingClassifier, RandomForestClassifier, AdaBoostClassifier, GradientBoostingClassifier\n",
    "from matplotlib.colors import ListedColormap\n",
    "from sklearn.svm import LinearSVC, SVC\n",
    "from sklearn.neural_network import MLPClassifier\n",
    "from six import StringIO  \n",
    "from IPython.display import Image  \n",
    "from sklearn.tree import export_graphviz\n",
    "import pydotplus\n",
    "import scipy.stats as stats\n",
    "\n",
    "# skip warnings\n",
    "def warn(*args, **kwargs):\n",
    "    pass\n",
    "import warnings\n",
    "warnings.warn = warn\n",
    "\n",
    "# change cell width\n",
    "from IPython.core.display import display, HTML\n",
    "display(HTML(\"<style>.container { width:90% !important; }</style>\"))"
   ]
  },
  {
   "cell_type": "code",
   "execution_count": 5,
   "metadata": {
    "ExecuteTime": {
     "end_time": "2020-03-19T17:46:58.157638Z",
     "start_time": "2020-03-19T17:46:55.774520Z"
    }
   },
   "outputs": [],
   "source": [
    "df = pd.read_csv('/Users/lukebetham/Documents/DSI_General_Assembly/Kaggle Comp/train.csv')"
   ]
  },
  {
   "cell_type": "code",
   "execution_count": 7,
   "metadata": {
    "ExecuteTime": {
     "end_time": "2020-03-19T17:48:38.337010Z",
     "start_time": "2020-03-19T17:48:37.873292Z"
    }
   },
   "outputs": [
    {
     "name": "stdout",
     "output_type": "stream",
     "text": [
      "<class 'pandas.core.frame.DataFrame'>\n",
      "RangeIndex: 600000 entries, 0 to 599999\n",
      "Data columns (total 25 columns):\n",
      "id        600000 non-null int64\n",
      "bin_0     582106 non-null float64\n",
      "bin_1     581997 non-null float64\n",
      "bin_2     582070 non-null float64\n",
      "bin_3     581986 non-null object\n",
      "bin_4     581953 non-null object\n",
      "nom_0     581748 non-null object\n",
      "nom_1     581844 non-null object\n",
      "nom_2     581965 non-null object\n",
      "nom_3     581879 non-null object\n",
      "nom_4     581965 non-null object\n",
      "nom_5     582222 non-null object\n",
      "nom_6     581869 non-null object\n",
      "nom_7     581997 non-null object\n",
      "nom_8     582245 non-null object\n",
      "nom_9     581927 non-null object\n",
      "ord_0     581712 non-null float64\n",
      "ord_1     581959 non-null object\n",
      "ord_2     581925 non-null object\n",
      "ord_3     582084 non-null object\n",
      "ord_4     582070 non-null object\n",
      "ord_5     582287 non-null object\n",
      "day       582048 non-null float64\n",
      "month     582012 non-null float64\n",
      "target    600000 non-null int64\n",
      "dtypes: float64(6), int64(2), object(17)\n",
      "memory usage: 114.4+ MB\n"
     ]
    }
   ],
   "source": [
    "df.info()"
   ]
  },
  {
   "cell_type": "code",
   "execution_count": 8,
   "metadata": {
    "ExecuteTime": {
     "end_time": "2020-03-19T18:12:52.684782Z",
     "start_time": "2020-03-19T18:12:52.624893Z"
    }
   },
   "outputs": [
    {
     "data": {
      "text/plain": [
       "0    0.812795\n",
       "1    0.187205\n",
       "Name: target, dtype: float64"
      ]
     },
     "execution_count": 8,
     "metadata": {},
     "output_type": "execute_result"
    }
   ],
   "source": [
    "df.target.value_counts(normalize=True)"
   ]
  },
  {
   "cell_type": "code",
   "execution_count": null,
   "metadata": {},
   "outputs": [],
   "source": []
  }
 ],
 "metadata": {
  "kernelspec": {
   "display_name": "Python 3",
   "language": "python",
   "name": "python3"
  },
  "language_info": {
   "codemirror_mode": {
    "name": "ipython",
    "version": 3
   },
   "file_extension": ".py",
   "mimetype": "text/x-python",
   "name": "python",
   "nbconvert_exporter": "python",
   "pygments_lexer": "ipython3",
   "version": "3.7.1"
  },
  "varInspector": {
   "cols": {
    "lenName": 16,
    "lenType": 16,
    "lenVar": 40
   },
   "kernels_config": {
    "python": {
     "delete_cmd_postfix": "",
     "delete_cmd_prefix": "del ",
     "library": "var_list.py",
     "varRefreshCmd": "print(var_dic_list())"
    },
    "r": {
     "delete_cmd_postfix": ") ",
     "delete_cmd_prefix": "rm(",
     "library": "var_list.r",
     "varRefreshCmd": "cat(var_dic_list()) "
    }
   },
   "types_to_exclude": [
    "module",
    "function",
    "builtin_function_or_method",
    "instance",
    "_Feature"
   ],
   "window_display": false
  }
 },
 "nbformat": 4,
 "nbformat_minor": 2
}
